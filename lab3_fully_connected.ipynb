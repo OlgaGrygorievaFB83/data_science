{
 "cells": [
  {
   "cell_type": "code",
   "execution_count": 1,
   "id": "91ec4b8c",
   "metadata": {
    "execution": {
     "iopub.execute_input": "2023-01-12T15:13:42.292051Z",
     "iopub.status.busy": "2023-01-12T15:13:42.291276Z",
     "iopub.status.idle": "2023-01-12T15:13:44.837713Z",
     "shell.execute_reply": "2023-01-12T15:13:44.836805Z"
    },
    "papermill": {
     "duration": 2.554869,
     "end_time": "2023-01-12T15:13:44.840372",
     "exception": false,
     "start_time": "2023-01-12T15:13:42.285503",
     "status": "completed"
    },
    "tags": []
   },
   "outputs": [],
   "source": [
    "#importing the libraries\n",
    "import torch\n",
    "import numpy as np\n",
    "import pandas as pd\n",
    "import matplotlib.pyplot as plt\n",
    "\n",
    "from sklearn.preprocessing import LabelEncoder, StandardScaler"
   ]
  },
  {
   "cell_type": "code",
   "execution_count": 2,
   "id": "af1bd809",
   "metadata": {
    "execution": {
     "iopub.execute_input": "2023-01-12T15:13:44.848039Z",
     "iopub.status.busy": "2023-01-12T15:13:44.847447Z",
     "iopub.status.idle": "2023-01-12T15:13:44.925331Z",
     "shell.execute_reply": "2023-01-12T15:13:44.924205Z"
    },
    "papermill": {
     "duration": 0.085208,
     "end_time": "2023-01-12T15:13:44.928785",
     "exception": false,
     "start_time": "2023-01-12T15:13:44.843577",
     "status": "completed"
    },
    "tags": []
   },
   "outputs": [
    {
     "name": "stdout",
     "output_type": "stream",
     "text": [
      "(4909, 11)\n",
      "(4909, 11)\n",
      "shape of x: (4909, 10)\n",
      "shape of y: (4909,)\n"
     ]
    }
   ],
   "source": [
    "#importing the dataset\n",
    "sick = pd.read_csv(\"/kaggle/input/stroke-prediction-dataset/healthcare-dataset-stroke-data.csv\")\n",
    "sick = sick.drop([\"id\"], axis=1)\n",
    "sick.head()\n",
    "sick = sick.dropna()\n",
    "print(sick.shape)\n",
    "\n",
    "for i in sick.columns:\n",
    "    if sick[i].dtype == \"object\":\n",
    "        sick[i] = LabelEncoder().fit_transform(sick[i])\n",
    "\n",
    "print(sick.shape)\n",
    "\n",
    "x = sick.drop([\"stroke\"], axis=1)\n",
    "y = sick[\"stroke\"]\n",
    "\n",
    "scaler = StandardScaler()\n",
    "x = scaler.fit_transform(x)\n",
    "print(\"shape of x: {}\\nshape of y: {}\".format(x.shape,y.shape))"
   ]
  },
  {
   "cell_type": "code",
   "execution_count": 3,
   "id": "e12a4fbb",
   "metadata": {
    "execution": {
     "iopub.execute_input": "2023-01-12T15:13:44.936522Z",
     "iopub.status.busy": "2023-01-12T15:13:44.936136Z",
     "iopub.status.idle": "2023-01-12T15:13:44.942866Z",
     "shell.execute_reply": "2023-01-12T15:13:44.942000Z"
    },
    "papermill": {
     "duration": 0.013219,
     "end_time": "2023-01-12T15:13:44.945085",
     "exception": false,
     "start_time": "2023-01-12T15:13:44.931866",
     "status": "completed"
    },
    "tags": []
   },
   "outputs": [],
   "source": [
    "#feature scaling\n",
    "from sklearn.preprocessing import StandardScaler\n",
    "sc = StandardScaler()\n",
    "x = sc.fit_transform(x)"
   ]
  },
  {
   "cell_type": "code",
   "execution_count": 4,
   "id": "a6db12b9",
   "metadata": {
    "execution": {
     "iopub.execute_input": "2023-01-12T15:13:44.952939Z",
     "iopub.status.busy": "2023-01-12T15:13:44.952182Z",
     "iopub.status.idle": "2023-01-12T15:13:44.963702Z",
     "shell.execute_reply": "2023-01-12T15:13:44.962410Z"
    },
    "papermill": {
     "duration": 0.017856,
     "end_time": "2023-01-12T15:13:44.965968",
     "exception": false,
     "start_time": "2023-01-12T15:13:44.948112",
     "status": "completed"
    },
    "tags": []
   },
   "outputs": [],
   "source": [
    "#defining dataset class\n",
    "from torch.utils.data import Dataset, DataLoader\n",
    "class dataset(Dataset):\n",
    "    def __init__(self,x,y):\n",
    "        self.x = torch.tensor(x,dtype=torch.float32)\n",
    "        self.y = torch.tensor(y,dtype=torch.float32)\n",
    "        self.length = self.x.shape[0]\n",
    "    \n",
    "    def __getitem__(self,idx):\n",
    "        return self.x[idx],self.y[idx]\n",
    "    def __len__(self):\n",
    "        return self.length\n",
    "trainset = dataset(x,y)\n",
    "#DataLoader\n",
    "trainloader = DataLoader(trainset,batch_size=64,shuffle=False)"
   ]
  },
  {
   "cell_type": "code",
   "execution_count": 5,
   "id": "85db3304",
   "metadata": {
    "execution": {
     "iopub.execute_input": "2023-01-12T15:13:44.974951Z",
     "iopub.status.busy": "2023-01-12T15:13:44.974038Z",
     "iopub.status.idle": "2023-01-12T15:13:44.982001Z",
     "shell.execute_reply": "2023-01-12T15:13:44.981173Z"
    },
    "papermill": {
     "duration": 0.014354,
     "end_time": "2023-01-12T15:13:44.983879",
     "exception": false,
     "start_time": "2023-01-12T15:13:44.969525",
     "status": "completed"
    },
    "tags": []
   },
   "outputs": [],
   "source": [
    "#defining the network\n",
    "from torch import nn\n",
    "from torch.nn import functional as F\n",
    "class Net(nn.Module):\n",
    "    def __init__(self,input_shape):\n",
    "        super(Net,self).__init__()\n",
    "        self.fc1 = nn.Linear(input_shape,32)\n",
    "        self.fc2 = nn.Linear(32,64)\n",
    "        self.fc3 = nn.Linear(64,1)\n",
    "    def forward(self,x):\n",
    "        x = torch.relu(self.fc1(x))\n",
    "        x = torch.relu(self.fc2(x))\n",
    "        x = torch.sigmoid(self.fc3(x))\n",
    "        return x"
   ]
  },
  {
   "cell_type": "code",
   "execution_count": 6,
   "id": "98a5f025",
   "metadata": {
    "execution": {
     "iopub.execute_input": "2023-01-12T15:13:44.991721Z",
     "iopub.status.busy": "2023-01-12T15:13:44.991040Z",
     "iopub.status.idle": "2023-01-12T15:13:45.001699Z",
     "shell.execute_reply": "2023-01-12T15:13:45.000800Z"
    },
    "papermill": {
     "duration": 0.017528,
     "end_time": "2023-01-12T15:13:45.004425",
     "exception": false,
     "start_time": "2023-01-12T15:13:44.986897",
     "status": "completed"
    },
    "tags": []
   },
   "outputs": [],
   "source": [
    "#hyper parameters\n",
    "learning_rate = 0.05\n",
    "epochs = 30\n",
    "# Model , Optimizer, Loss\n",
    "model = Net(input_shape=x.shape[1])\n",
    "optimizer = torch.optim.SGD(model.parameters(),lr=learning_rate)\n",
    "loss_fn = nn.BCELoss()"
   ]
  },
  {
   "cell_type": "code",
   "execution_count": 7,
   "id": "0b4d8347",
   "metadata": {
    "execution": {
     "iopub.execute_input": "2023-01-12T15:13:45.012097Z",
     "iopub.status.busy": "2023-01-12T15:13:45.011720Z",
     "iopub.status.idle": "2023-01-12T15:13:50.517045Z",
     "shell.execute_reply": "2023-01-12T15:13:50.515055Z"
    },
    "papermill": {
     "duration": 5.512362,
     "end_time": "2023-01-12T15:13:50.519833",
     "exception": false,
     "start_time": "2023-01-12T15:13:45.007471",
     "status": "completed"
    },
    "tags": []
   },
   "outputs": [
    {
     "name": "stdout",
     "output_type": "stream",
     "text": [
      "epoch 0\tloss : 0.05158217251300812\n",
      "epoch 1\tloss : 0.025516478344798088\n",
      "epoch 2\tloss : 0.021718494594097137\n",
      "epoch 3\tloss : 0.020620262250304222\n",
      "epoch 4\tloss : 0.020277423784136772\n",
      "epoch 5\tloss : 0.020226189866662025\n",
      "epoch 6\tloss : 0.020338771864771843\n",
      "epoch 7\tloss : 0.020508047193288803\n",
      "epoch 8\tloss : 0.020685849711298943\n",
      "epoch 9\tloss : 0.020870503038167953\n",
      "epoch 10\tloss : 0.021079881116747856\n",
      "epoch 11\tloss : 0.021383170038461685\n",
      "epoch 12\tloss : 0.021642521023750305\n",
      "epoch 13\tloss : 0.021909639239311218\n",
      "epoch 14\tloss : 0.022186962887644768\n",
      "epoch 15\tloss : 0.022368544712662697\n",
      "epoch 16\tloss : 0.022518722340464592\n",
      "epoch 17\tloss : 0.022672908380627632\n",
      "epoch 18\tloss : 0.02279038354754448\n",
      "epoch 19\tloss : 0.022953025996685028\n",
      "epoch 20\tloss : 0.02308768779039383\n",
      "epoch 21\tloss : 0.02321033738553524\n",
      "epoch 22\tloss : 0.023305559530854225\n",
      "epoch 23\tloss : 0.023392992094159126\n",
      "epoch 24\tloss : 0.02349340356886387\n",
      "epoch 25\tloss : 0.023564143106341362\n",
      "epoch 26\tloss : 0.023669933900237083\n",
      "epoch 27\tloss : 0.023729734122753143\n",
      "epoch 28\tloss : 0.023777225986123085\n",
      "epoch 29\tloss : 0.023858340457081795\n",
      "accuracy:  0.9574251375025463\n"
     ]
    }
   ],
   "source": [
    "#forward loop\n",
    "losses = []\n",
    "accur = []\n",
    "for i in range(epochs):\n",
    "    for j,(x_train,y_train) in enumerate(trainloader):\n",
    "    \n",
    "        #calculate output\n",
    "        output = model(x_train)\n",
    "\n",
    "        #calculate loss\n",
    "        loss = loss_fn(output,y_train.reshape(-1,1))\n",
    "\n",
    "        #accuracy\n",
    "        predicted = model(torch.tensor(x,dtype=torch.float32))\n",
    "        acc = (predicted.reshape(-1).detach().numpy().round() == y).mean()\n",
    "        \n",
    "        #backprop\n",
    "        optimizer.zero_grad()\n",
    "        loss.backward()\n",
    "        optimizer.step()\n",
    "\n",
    "    losses.append(loss)\n",
    "    accur.append(acc)\n",
    "    print(\"epoch {}\\tloss : {}\".format(i,loss))\n",
    "    \n",
    "print(\"accuracy: \", acc)"
   ]
  },
  {
   "cell_type": "code",
   "execution_count": 8,
   "id": "f6223646",
   "metadata": {
    "execution": {
     "iopub.execute_input": "2023-01-12T15:13:50.530712Z",
     "iopub.status.busy": "2023-01-12T15:13:50.530302Z",
     "iopub.status.idle": "2023-01-12T15:13:50.743036Z",
     "shell.execute_reply": "2023-01-12T15:13:50.741633Z"
    },
    "papermill": {
     "duration": 0.221087,
     "end_time": "2023-01-12T15:13:50.745701",
     "exception": false,
     "start_time": "2023-01-12T15:13:50.524614",
     "status": "completed"
    },
    "tags": []
   },
   "outputs": [
    {
     "data": {
      "text/plain": [
       "Text(0, 0.5, 'loss')"
      ]
     },
     "execution_count": 8,
     "metadata": {},
     "output_type": "execute_result"
    },
    {
     "data": {
      "image/png": "[encoded data removed]",
      "text/plain": [
       "<Figure size 432x288 with 1 Axes>"
      ]
     },
     "metadata": {
      "needs_background": "light"
     },
     "output_type": "display_data"
    }
   ],
   "source": [
    "#plotting the loss\n",
    "from torch.autograd import Variable\n",
    "losses = torch.tensor(losses, requires_grad=True)\n",
    "losses = Variable(losses, requires_grad=True)\n",
    "losses = losses.detach().numpy()\n",
    "plt.plot(losses)\n",
    "plt.title('Loss vs Epochs')\n",
    "plt.xlabel('Epochs')\n",
    "plt.ylabel('loss')"
   ]
  }
 ],
 "metadata": {
  "kernelspec": {
   "display_name": "Python 3",
   "language": "python",
   "name": "python3"
  },
  "language_info": {
   "codemirror_mode": {
    "name": "ipython",
    "version": 3
   },
   "file_extension": ".py",
   "mimetype": "text/x-python",
   "name": "python",
   "nbconvert_exporter": "python",
   "pygments_lexer": "ipython3",
   "version": "3.7.12"
  },
  "papermill": {
   "default_parameters": {},
   "duration": 20.151876,
   "end_time": "2023-01-12T15:13:54.125331",
   "environment_variables": {},
   "exception": null,
   "input_path": "__notebook__.ipynb",
   "output_path": "__notebook__.ipynb",
   "parameters": {},
   "start_time": "2023-01-12T15:13:33.973455",
   "version": "2.3.4"
  }
 },
 "nbformat": 4,
 "nbformat_minor": 5
}
